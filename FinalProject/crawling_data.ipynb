{
 "cells": [
  {
   "cell_type": "code",
   "execution_count": 1,
   "id": "3a835697",
   "metadata": {},
   "outputs": [],
   "source": [
    "import twint\n",
    "import nest_asyncio\n",
    "nest_asyncio.apply()"
   ]
  },
  {
   "cell_type": "code",
   "execution_count": 5,
   "id": "923af66b",
   "metadata": {},
   "outputs": [
    {
     "name": "stdout",
     "output_type": "stream",
     "text": [
      "[!] No more data! Scraping will stop now.\n",
      "found 0 deleted tweets in this search.\n",
      "[+] Finished: Successfully collected 2259 Tweets.\n"
     ]
    }
   ],
   "source": [
    "conf = twint.Config()\n",
    "conf.Count = True\n",
    "conf.Retweet = True\n",
    "conf.Stats = True\n",
    "conf.Show_hashtags = True\n",
    "conf.Hide_output = True\n",
    "conf.Profile_full = True\n",
    "conf.Store_json = True\n",
    "conf.Search = '#PresidenLanggarKonstitusi'\n",
    "conf.Output = './data/PresidenLanggarKonstitusi.json' # save to json\n",
    "twint.run.Search(conf)"
   ]
  },
  {
   "cell_type": "code",
   "execution_count": 6,
   "id": "7c11ce5b",
   "metadata": {},
   "outputs": [],
   "source": [
    "import pandas as pd\n",
    "import numpy as np"
   ]
  },
  {
   "cell_type": "code",
   "execution_count": 9,
   "id": "fd313e97",
   "metadata": {},
   "outputs": [],
   "source": [
    "raw_df = pd.read_json('./data/PresidenLanggarKonstitusi.json', lines = True)\n",
    "raw_df.to_csv('./data/PresidenLanggarKonstitusi.csv')"
   ]
  },
  {
   "cell_type": "code",
   "execution_count": null,
   "id": "223000d1",
   "metadata": {},
   "outputs": [],
   "source": []
  }
 ],
 "metadata": {
  "kernelspec": {
   "display_name": "Python 3",
   "language": "python",
   "name": "python3"
  },
  "language_info": {
   "codemirror_mode": {
    "name": "ipython",
    "version": 3
   },
   "file_extension": ".py",
   "mimetype": "text/x-python",
   "name": "python",
   "nbconvert_exporter": "python",
   "pygments_lexer": "ipython3",
   "version": "3.8.5"
  }
 },
 "nbformat": 4,
 "nbformat_minor": 5
}
